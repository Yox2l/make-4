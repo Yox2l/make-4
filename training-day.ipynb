{
 "cells": [
  {
   "cell_type": "code",
   "execution_count": 1,
   "metadata": {},
   "outputs": [],
   "source": [
    "from tensorflow.keras.utils import img_to_array, load_img\n",
    "from sklearn.model_selection import train_test_split\n",
    "# Importing the required Keras modules containing model and layers\n",
    "from tensorflow.keras.models import Sequential\n",
    "from tensorflow.keras.layers import Dense, Conv2D, Dropout, Flatten, MaxPooling2D\n",
    "import tensorflow as tf\n",
    "import numpy as np\n"
   ]
  },
  {
   "cell_type": "code",
   "execution_count": 2,
   "metadata": {},
   "outputs": [],
   "source": [
    "SIZE = 28\n",
    "def img2vec(path):\n",
    "    vector = img_to_array(load_img(path, color_mode='grayscale', target_size=(SIZE, SIZE)))\n",
    "    vector = vector.astype('float32')\n",
    "    vector = vector/255\n",
    "    return vector"
   ]
  },
  {
   "cell_type": "code",
   "execution_count": 3,
   "metadata": {},
   "outputs": [],
   "source": [
    "with open('4_images_list.txt') as fin:\n",
    "    images_of_4_filenames = [line.strip() for line in fin if line]\n",
    "\n",
    "with open('not_4_images_list.txt') as fin:\n",
    "    images_of_not_4_filenames = [line.strip() for line in fin if line]\n",
    "\n",
    "number_of_vector = len(images_of_4_filenames) + len(images_of_not_4_filenames)\n",
    "X_MAT = np.ndarray(shape=(number_of_vector,SIZE,SIZE,1))\n",
    "Y_MAT = np.ndarray(shape=(number_of_vector,))\n",
    "\n",
    "i = 0\n",
    "for filename in images_of_4_filenames + images_of_not_4_filenames:\n",
    "    X_MAT[i] = img2vec(filename)\n",
    "    Y_MAT[i] = 1 if filename in images_of_4_filenames else 0\n",
    "    i += 1\n"
   ]
  },
  {
   "cell_type": "code",
   "execution_count": 5,
   "metadata": {},
   "outputs": [],
   "source": [
    "\n",
    "x_train, x_test, y_train, y_test = train_test_split(X_MAT, Y_MAT, test_size=0.15, random_state=1432)"
   ]
  },
  {
   "cell_type": "code",
   "execution_count": 6,
   "metadata": {},
   "outputs": [
    {
     "name": "stderr",
     "output_type": "stream",
     "text": [
      "2022-06-09 08:54:39.070383: I tensorflow/core/platform/cpu_feature_guard.cc:193] This TensorFlow binary is optimized with oneAPI Deep Neural Network Library (oneDNN) to use the following CPU instructions in performance-critical operations:  AVX2 FMA\n",
      "To enable them in other operations, rebuild TensorFlow with the appropriate compiler flags.\n"
     ]
    }
   ],
   "source": [
    "model = Sequential()\n",
    "input_shape = (SIZE, SIZE, 1)\n",
    "model.add(Conv2D(SIZE, kernel_size=(3,3), input_shape=input_shape))\n",
    "model.add(MaxPooling2D(pool_size=(2, 2)))\n",
    "model.add(Flatten()) \n",
    "model.add(Dense(128, activation=tf.nn.relu))\n",
    "model.add(Dropout(0.2))\n",
    "model.add(Dense(2,activation=tf.nn.sigmoid))"
   ]
  },
  {
   "cell_type": "code",
   "execution_count": 8,
   "metadata": {},
   "outputs": [
    {
     "name": "stdout",
     "output_type": "stream",
     "text": [
      "Epoch 1/10\n",
      "2994/2994 [==============================] - 29s 9ms/step - loss: 0.0740 - accuracy: 0.9732\n",
      "Epoch 2/10\n",
      "2994/2994 [==============================] - 31s 10ms/step - loss: 0.0213 - accuracy: 0.9920\n",
      "Epoch 3/10\n",
      "2994/2994 [==============================] - 36s 12ms/step - loss: 0.0152 - accuracy: 0.9936\n",
      "Epoch 4/10\n",
      "2994/2994 [==============================] - 37s 13ms/step - loss: 0.0112 - accuracy: 0.9949\n",
      "Epoch 5/10\n",
      "2994/2994 [==============================] - 39s 13ms/step - loss: 0.0109 - accuracy: 0.9953\n",
      "Epoch 6/10\n",
      "2994/2994 [==============================] - 40s 13ms/step - loss: 0.0093 - accuracy: 0.9958\n",
      "Epoch 7/10\n",
      "2994/2994 [==============================] - 40s 13ms/step - loss: 0.0088 - accuracy: 0.9962\n",
      "Epoch 8/10\n",
      "2994/2994 [==============================] - 41s 14ms/step - loss: 0.0080 - accuracy: 0.9965\n",
      "Epoch 9/10\n",
      "2994/2994 [==============================] - 42s 14ms/step - loss: 0.0074 - accuracy: 0.9970\n",
      "Epoch 10/10\n",
      "2994/2994 [==============================] - 40s 13ms/step - loss: 0.0068 - accuracy: 0.9973\n"
     ]
    },
    {
     "data": {
      "text/plain": [
       "<keras.callbacks.History at 0x130288350>"
      ]
     },
     "execution_count": 8,
     "metadata": {},
     "output_type": "execute_result"
    }
   ],
   "source": [
    "model.compile(optimizer='adam', \n",
    "              loss='sparse_categorical_crossentropy', \n",
    "              metrics=['accuracy'])\n",
    "model.fit(x=x_train,y=y_train, epochs=10)"
   ]
  },
  {
   "cell_type": "code",
   "execution_count": 9,
   "metadata": {},
   "outputs": [
    {
     "name": "stdout",
     "output_type": "stream",
     "text": [
      "529/529 [==============================] - 2s 4ms/step - loss: 0.0057 - accuracy: 0.9975\n"
     ]
    },
    {
     "data": {
      "text/plain": [
       "[0.005660585127770901, 0.9975154995918274]"
      ]
     },
     "execution_count": 9,
     "metadata": {},
     "output_type": "execute_result"
    }
   ],
   "source": [
    "model.evaluate(x_test, y_test)"
   ]
  },
  {
   "cell_type": "code",
   "execution_count": 10,
   "metadata": {},
   "outputs": [
    {
     "name": "stderr",
     "output_type": "stream",
     "text": [
      "WARNING:absl:Found untraced functions such as _jit_compiled_convolution_op while saving (showing 1 of 1). These functions will not be directly callable after loading.\n"
     ]
    },
    {
     "name": "stdout",
     "output_type": "stream",
     "text": [
      "INFO:tensorflow:Assets written to: cnn_4_numbers_big/assets\n"
     ]
    },
    {
     "name": "stderr",
     "output_type": "stream",
     "text": [
      "INFO:tensorflow:Assets written to: cnn_4_numbers_big/assets\n"
     ]
    }
   ],
   "source": [
    "model.save(\"to_4_or_not_to_4_model.h5\")"
   ]
  }
 ],
 "metadata": {
  "interpreter": {
   "hash": "3acfc955becb9ba536e5d5fa119bbe659041669da3cb878d346945c813047ff6"
  },
  "kernelspec": {
   "display_name": "Python 3.7.12 64-bit ('art')",
   "language": "python",
   "name": "python3"
  },
  "language_info": {
   "codemirror_mode": {
    "name": "ipython",
    "version": 3
   },
   "file_extension": ".py",
   "mimetype": "text/x-python",
   "name": "python",
   "nbconvert_exporter": "python",
   "pygments_lexer": "ipython3",
   "version": "3.7.12"
  },
  "orig_nbformat": 4
 },
 "nbformat": 4,
 "nbformat_minor": 2
}
